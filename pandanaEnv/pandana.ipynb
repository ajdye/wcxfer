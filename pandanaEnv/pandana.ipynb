{
 "cells": [
  {
   "cell_type": "code",
   "execution_count": 1,
   "id": "assured-adult",
   "metadata": {},
   "outputs": [
    {
     "name": "stderr",
     "output_type": "stream",
     "text": [
      "--------------------------------------------------------------------------\n",
      "The library attempted to open the following supporting CUDA libraries,\n",
      "but each of them failed.  CUDA-aware support is disabled.\n",
      "libcuda.so.1: cannot open shared object file: No such file or directory\n",
      "libcuda.dylib: cannot open shared object file: No such file or directory\n",
      "/usr/lib64/libcuda.so.1: cannot open shared object file: No such file or directory\n",
      "/usr/lib64/libcuda.dylib: cannot open shared object file: No such file or directory\n",
      "If you are not interested in CUDA-aware support, then run with\n",
      "--mca opal_warn_on_missing_libcuda 0 to suppress this message.  If you are interested\n",
      "in CUDA-aware support, then try setting LD_LIBRARY_PATH to the location\n",
      "of libcuda.so.1 to get passed this issue.\n",
      "--------------------------------------------------------------------------\n"
     ]
    }
   ],
   "source": [
    "import sys\n",
    "sys.path.append('pandana')\n",
    "sys.path.append('NOvAPandAna')\n",
    "\n",
    "from pandana import Var, Cut\n",
    "from Core.NOVASpectrum import NOVASpectrum\n",
    "from Core.NOVALoader import NOVALoader\n",
    "from Utils.index import KL"
   ]
  },
  {
   "cell_type": "code",
   "execution_count": 2,
   "id": "racial-reception",
   "metadata": {},
   "outputs": [],
   "source": [
    "kNHit = Var(lambda tables: tables['rec.slc']['nhit'])"
   ]
  },
  {
   "cell_type": "code",
   "execution_count": 3,
   "id": "flush-revelation",
   "metadata": {},
   "outputs": [],
   "source": [
    "kHitCut = kNHit > 100"
   ]
  },
  {
   "cell_type": "code",
   "execution_count": 4,
   "id": "empirical-portland",
   "metadata": {},
   "outputs": [],
   "source": [
    "kPngHit = Var(lambda tables: tables['rec.vtx.elastic.fuzzyk.png']['nhit'])"
   ]
  },
  {
   "cell_type": "code",
   "execution_count": 5,
   "id": "based-story",
   "metadata": {},
   "outputs": [],
   "source": [
    "kPngCut = kPngHit < 100"
   ]
  },
  {
   "cell_type": "code",
   "execution_count": 6,
   "id": "arabic-conflict",
   "metadata": {},
   "outputs": [],
   "source": [
    "def kPngHitTotal(tables):\n",
    "    df = kPngHit(tables)\n",
    "    return df.groupby(KL).sum()\n",
    "kPngHitTotal = Var(kPngHitTotal)"
   ]
  },
  {
   "cell_type": "code",
   "execution_count": 7,
   "id": "atmospheric-participation",
   "metadata": {},
   "outputs": [
    {
     "name": "stdout",
     "output_type": "stream",
     "text": [
      "Using glob souce\n"
     ]
    }
   ],
   "source": [
    "l = NOVALoader('testData.h5')"
   ]
  },
  {
   "cell_type": "code",
   "execution_count": 8,
   "id": "instrumental-advisory",
   "metadata": {},
   "outputs": [],
   "source": [
    "SlcSpec = NOVASpectrum(l, kHitCut, kNHit)\n",
    "PngSpec = NOVASpectrum(l, kPngCut, kPngHit)\n",
    "ComplicatedSpec = NOVASpectrum(l, (kPngHitTotal > 25) & kPngCut, kPngHit)"
   ]
  },
  {
   "cell_type": "code",
   "execution_count": 9,
   "id": "exact-italy",
   "metadata": {},
   "outputs": [],
   "source": [
    "l.Go()"
   ]
  },
  {
   "cell_type": "code",
   "execution_count": 10,
   "id": "intense-starter",
   "metadata": {},
   "outputs": [
    {
     "data": {
      "text/plain": [
       "run    subrun  cycle  batch  evt  subevt\n",
       "12732  0       4      3      2    1         254\n",
       "                             19   2         199\n",
       "                             51   4         106\n",
       "                             107  1         114\n",
       "                             114  5         112\n",
       "                                           ... \n",
       "13031  19      37     1      358  3         220\n",
       "                             370  3         331\n",
       "                             372  1         167\n",
       "                             479  2         281\n",
       "                             485  6         206\n",
       "Name: nhit, Length: 11425, dtype: uint32"
      ]
     },
     "execution_count": 10,
     "metadata": {},
     "output_type": "execute_result"
    }
   ],
   "source": [
    "SlcSpec.df()"
   ]
  },
  {
   "cell_type": "code",
   "execution_count": 11,
   "id": "wired-madison",
   "metadata": {},
   "outputs": [],
   "source": [
    "n, bins = SlcSpec.histogram(5, (100, 1000))"
   ]
  },
  {
   "cell_type": "code",
   "execution_count": 12,
   "id": "passing-shift",
   "metadata": {},
   "outputs": [
    {
     "data": {
      "text/plain": [
       "array([1.0603e+04, 6.6700e+02, 1.2300e+02, 2.2000e+01, 8.0000e+00])"
      ]
     },
     "execution_count": 12,
     "metadata": {},
     "output_type": "execute_result"
    }
   ],
   "source": [
    "n"
   ]
  },
  {
   "cell_type": "code",
   "execution_count": 13,
   "id": "athletic-battlefield",
   "metadata": {},
   "outputs": [
    {
     "data": {
      "text/plain": [
       "array([ 100.,  280.,  460.,  640.,  820., 1000.])"
      ]
     },
     "execution_count": 13,
     "metadata": {},
     "output_type": "execute_result"
    }
   ],
   "source": [
    "bins"
   ]
  },
  {
   "cell_type": "code",
   "execution_count": 14,
   "id": "raising-judge",
   "metadata": {},
   "outputs": [],
   "source": [
    "import matplotlib.pyplot as plt"
   ]
  },
  {
   "cell_type": "code",
   "execution_count": 15,
   "id": "amber-engagement",
   "metadata": {},
   "outputs": [
    {
     "data": {
      "image/png": "[encoded data removed]",
      "text/plain": [
       "<Figure size 432x288 with 1 Axes>"
      ]
     },
     "metadata": {
      "needs_background": "light"
     },
     "output_type": "display_data"
    }
   ],
   "source": [
    "_ = plt.hist(bins[:-1], bins, weights=n)"
   ]
  },
  {
   "cell_type": "code",
   "execution_count": 16,
   "id": "african-chemical",
   "metadata": {},
   "outputs": [
    {
     "data": {
      "text/plain": [
       "run    subrun  cycle  batch  evt  subevt\n",
       "12732  0       4      3      2    1         1\n",
       "                             19   2         1\n",
       "                             51   4         1\n",
       "                             107  1         1\n",
       "                             114  5         1\n",
       "                                           ..\n",
       "13031  19      37     1      358  3         1\n",
       "                             370  3         1\n",
       "                             372  1         1\n",
       "                             479  2         1\n",
       "                             485  6         1\n",
       "Name: weight, Length: 11425, dtype: int64"
      ]
     },
     "execution_count": 16,
     "metadata": {},
     "output_type": "execute_result"
    }
   ],
   "source": [
    "SlcSpec.weight()"
   ]
  },
  {
   "cell_type": "code",
   "execution_count": 17,
   "id": "southeast-actor",
   "metadata": {},
   "outputs": [
    {
     "data": {
      "text/plain": [
       "run    subrun  cycle  batch  evt  subevt  rec.vtx.elastic.fuzzyk.png_idx\n",
       "12732  0       4      3      2    1       1                                 51\n",
       "                                          2                                 69\n",
       "                                          3                                 13\n",
       "                             8    1       0                                 67\n",
       "                             19   2       1                                 38\n",
       "                                                                            ..\n",
       "13031  19      37     1      495  6       0                                 17\n",
       "                                          1                                  8\n",
       "                                          2                                  6\n",
       "                             499  9       0                                 58\n",
       "                                          1                                  8\n",
       "Name: nhit, Length: 63374, dtype: uint16"
      ]
     },
     "execution_count": 17,
     "metadata": {},
     "output_type": "execute_result"
    }
   ],
   "source": [
    "ComplicatedSpec.df()"
   ]
  },
  {
   "cell_type": "code",
   "execution_count": 18,
   "id": "mental-rogers",
   "metadata": {},
   "outputs": [],
   "source": [
    "n, bins = ComplicatedSpec.histogram(25,(0,100))"
   ]
  },
  {
   "cell_type": "code",
   "execution_count": 19,
   "id": "ignored-holmes",
   "metadata": {},
   "outputs": [
    {
     "data": {
      "text/plain": [
       "63374.0"
      ]
     },
     "execution_count": 19,
     "metadata": {},
     "output_type": "execute_result"
    }
   ],
   "source": [
    "n.sum()"
   ]
  },
  {
   "cell_type": "code",
   "execution_count": null,
   "id": "square-ground",
   "metadata": {},
   "outputs": [],
   "source": []
  },
  {
   "cell_type": "code",
   "execution_count": null,
   "id": "aa956469",
   "metadata": {},
   "outputs": [],
   "source": []
  },
  {
   "cell_type": "code",
   "execution_count": null,
   "id": "47766c2a",
   "metadata": {},
   "outputs": [],
   "source": []
  }
 ],
 "metadata": {
  "kernelspec": {
   "display_name": "Python 3 (ipykernel)",
   "language": "python",
   "name": "python3"
  },
  "language_info": {
   "codemirror_mode": {
    "name": "ipython",
    "version": 3
   },
   "file_extension": ".py",
   "mimetype": "text/x-python",
   "name": "python",
   "nbconvert_exporter": "python",
   "pygments_lexer": "ipython3",
   "version": "3.9.7"
  }
 },
 "nbformat": 4,
 "nbformat_minor": 5
}
