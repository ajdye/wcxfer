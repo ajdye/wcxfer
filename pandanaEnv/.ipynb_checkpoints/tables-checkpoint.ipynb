{
 "cells": [
  {
   "cell_type": "code",
   "execution_count": 1,
   "id": "chicken-dayton",
   "metadata": {},
   "outputs": [
    {
     "name": "stderr",
     "output_type": "stream",
     "text": [
      "--------------------------------------------------------------------------\n",
      "The library attempted to open the following supporting CUDA libraries,\n",
      "but each of them failed.  CUDA-aware support is disabled.\n",
      "libcuda.so.1: cannot open shared object file: No such file or directory\n",
      "libcuda.dylib: cannot open shared object file: No such file or directory\n",
      "/usr/lib64/libcuda.so.1: cannot open shared object file: No such file or directory\n",
      "/usr/lib64/libcuda.dylib: cannot open shared object file: No such file or directory\n",
      "If you are not interested in CUDA-aware support, then run with\n",
      "--mca opal_warn_on_missing_libcuda 0 to suppress this message.  If you are interested\n",
      "in CUDA-aware support, then try setting LD_LIBRARY_PATH to the location\n",
      "of libcuda.so.1 to get passed this issue.\n",
      "--------------------------------------------------------------------------\n"
     ]
    }
   ],
   "source": [
    "import sys\n",
    "sys.path.append('pandana')\n",
    "\n",
    "from pandana.core.tables import Tables"
   ]
  },
  {
   "cell_type": "code",
   "execution_count": 2,
   "id": "manual-dance",
   "metadata": {},
   "outputs": [
    {
     "ename": "OSError",
     "evalue": "Unable to open file (unable to open file: name = 'rhc_0_of_32.h5', errno = 2, error message = 'No such file or directory', flags = 0, o_flags = 0)",
     "output_type": "error",
     "traceback": [
      "\u001b[0;31m---------------------------------------------------------------------------\u001b[0m",
      "\u001b[0;31mOSError\u001b[0m                                   Traceback (most recent call last)",
      "\u001b[0;32m/tmp/ipykernel_446119/1320629846.py\u001b[0m in \u001b[0;36m<module>\u001b[0;34m\u001b[0m\n\u001b[0;32m----> 1\u001b[0;31m \u001b[0mtables\u001b[0m \u001b[0;34m=\u001b[0m \u001b[0mTables\u001b[0m\u001b[0;34m(\u001b[0m\u001b[0;34m'rhc_0_of_32.h5'\u001b[0m\u001b[0;34m,\u001b[0m \u001b[0;32mNone\u001b[0m\u001b[0;34m,\u001b[0m\u001b[0;32mNone\u001b[0m\u001b[0;34m,\u001b[0m \u001b[0;34m[\u001b[0m\u001b[0;34m'run'\u001b[0m\u001b[0;34m,\u001b[0m \u001b[0;34m'subrun'\u001b[0m\u001b[0;34m,\u001b[0m \u001b[0;34m'cycle'\u001b[0m\u001b[0;34m,\u001b[0m \u001b[0;34m'batch'\u001b[0m\u001b[0;34m,\u001b[0m \u001b[0;34m'evt'\u001b[0m\u001b[0;34m,\u001b[0m \u001b[0;34m'subevt'\u001b[0m\u001b[0;34m,\u001b[0m \u001b[0;34m'rec.vtx.elastic.fuzzyk.png_idx'\u001b[0m\u001b[0;34m]\u001b[0m\u001b[0;34m)\u001b[0m\u001b[0;34m\u001b[0m\u001b[0;34m\u001b[0m\u001b[0m\n\u001b[0m",
      "\u001b[0;32m~/pandanaEnv/pandana/pandana/core/tables.py\u001b[0m in \u001b[0;36m__init__\u001b[0;34m(self, f, idcol, main_table_name, indices)\u001b[0m\n\u001b[1;32m      8\u001b[0m \u001b[0;32mclass\u001b[0m \u001b[0mTables\u001b[0m\u001b[0;34m:\u001b[0m\u001b[0;34m\u001b[0m\u001b[0;34m\u001b[0m\u001b[0m\n\u001b[1;32m      9\u001b[0m     \u001b[0;32mdef\u001b[0m \u001b[0m__init__\u001b[0m\u001b[0;34m(\u001b[0m\u001b[0mself\u001b[0m\u001b[0;34m,\u001b[0m \u001b[0mf\u001b[0m\u001b[0;34m,\u001b[0m \u001b[0midcol\u001b[0m\u001b[0;34m,\u001b[0m \u001b[0mmain_table_name\u001b[0m\u001b[0;34m,\u001b[0m \u001b[0mindices\u001b[0m\u001b[0;34m)\u001b[0m\u001b[0;34m:\u001b[0m\u001b[0;34m\u001b[0m\u001b[0;34m\u001b[0m\u001b[0m\n\u001b[0;32m---> 10\u001b[0;31m         \u001b[0mself\u001b[0m\u001b[0;34m.\u001b[0m\u001b[0m_file\u001b[0m \u001b[0;34m=\u001b[0m \u001b[0mh5py\u001b[0m\u001b[0;34m.\u001b[0m\u001b[0mFile\u001b[0m\u001b[0;34m(\u001b[0m\u001b[0mf\u001b[0m\u001b[0;34m,\u001b[0m \u001b[0;34m\"r\"\u001b[0m\u001b[0;34m)\u001b[0m\u001b[0;34m\u001b[0m\u001b[0;34m\u001b[0m\u001b[0m\n\u001b[0m\u001b[1;32m     11\u001b[0m         \u001b[0mself\u001b[0m\u001b[0;34m.\u001b[0m\u001b[0m_idcol\u001b[0m \u001b[0;34m=\u001b[0m \u001b[0midcol\u001b[0m\u001b[0;34m\u001b[0m\u001b[0;34m\u001b[0m\u001b[0m\n\u001b[1;32m     12\u001b[0m         \u001b[0mself\u001b[0m\u001b[0;34m.\u001b[0m\u001b[0m_main_table_name\u001b[0m \u001b[0;34m=\u001b[0m \u001b[0mmain_table_name\u001b[0m\u001b[0;34m\u001b[0m\u001b[0;34m\u001b[0m\u001b[0m\n",
      "\u001b[0;32m~/.local/lib/python3.9/site-packages/h5py/_hl/files.py\u001b[0m in \u001b[0;36m__init__\u001b[0;34m(self, name, mode, driver, libver, userblock_size, swmr, rdcc_nslots, rdcc_nbytes, rdcc_w0, track_order, fs_strategy, fs_persist, fs_threshold, **kwds)\u001b[0m\n\u001b[1;32m    422\u001b[0m             \u001b[0;32mwith\u001b[0m \u001b[0mphil\u001b[0m\u001b[0;34m:\u001b[0m\u001b[0;34m\u001b[0m\u001b[0;34m\u001b[0m\u001b[0m\n\u001b[1;32m    423\u001b[0m                 \u001b[0mfapl\u001b[0m \u001b[0;34m=\u001b[0m \u001b[0mmake_fapl\u001b[0m\u001b[0;34m(\u001b[0m\u001b[0mdriver\u001b[0m\u001b[0;34m,\u001b[0m \u001b[0mlibver\u001b[0m\u001b[0;34m,\u001b[0m \u001b[0mrdcc_nslots\u001b[0m\u001b[0;34m,\u001b[0m \u001b[0mrdcc_nbytes\u001b[0m\u001b[0;34m,\u001b[0m \u001b[0mrdcc_w0\u001b[0m\u001b[0;34m,\u001b[0m \u001b[0;34m**\u001b[0m\u001b[0mkwds\u001b[0m\u001b[0;34m)\u001b[0m\u001b[0;34m\u001b[0m\u001b[0;34m\u001b[0m\u001b[0m\n\u001b[0;32m--> 424\u001b[0;31m                 fid = make_fid(name, mode, userblock_size,\n\u001b[0m\u001b[1;32m    425\u001b[0m                                fapl, fcpl=make_fcpl(track_order=track_order, fs_strategy=fs_strategy,\n\u001b[1;32m    426\u001b[0m                                fs_persist=fs_persist, fs_threshold=fs_threshold),\n",
      "\u001b[0;32m~/.local/lib/python3.9/site-packages/h5py/_hl/files.py\u001b[0m in \u001b[0;36mmake_fid\u001b[0;34m(name, mode, userblock_size, fapl, fcpl, swmr)\u001b[0m\n\u001b[1;32m    188\u001b[0m         \u001b[0;32mif\u001b[0m \u001b[0mswmr\u001b[0m \u001b[0;32mand\u001b[0m \u001b[0mswmr_support\u001b[0m\u001b[0;34m:\u001b[0m\u001b[0;34m\u001b[0m\u001b[0;34m\u001b[0m\u001b[0m\n\u001b[1;32m    189\u001b[0m             \u001b[0mflags\u001b[0m \u001b[0;34m|=\u001b[0m \u001b[0mh5f\u001b[0m\u001b[0;34m.\u001b[0m\u001b[0mACC_SWMR_READ\u001b[0m\u001b[0;34m\u001b[0m\u001b[0;34m\u001b[0m\u001b[0m\n\u001b[0;32m--> 190\u001b[0;31m         \u001b[0mfid\u001b[0m \u001b[0;34m=\u001b[0m \u001b[0mh5f\u001b[0m\u001b[0;34m.\u001b[0m\u001b[0mopen\u001b[0m\u001b[0;34m(\u001b[0m\u001b[0mname\u001b[0m\u001b[0;34m,\u001b[0m \u001b[0mflags\u001b[0m\u001b[0;34m,\u001b[0m \u001b[0mfapl\u001b[0m\u001b[0;34m=\u001b[0m\u001b[0mfapl\u001b[0m\u001b[0;34m)\u001b[0m\u001b[0;34m\u001b[0m\u001b[0;34m\u001b[0m\u001b[0m\n\u001b[0m\u001b[1;32m    191\u001b[0m     \u001b[0;32melif\u001b[0m \u001b[0mmode\u001b[0m \u001b[0;34m==\u001b[0m \u001b[0;34m'r+'\u001b[0m\u001b[0;34m:\u001b[0m\u001b[0;34m\u001b[0m\u001b[0;34m\u001b[0m\u001b[0m\n\u001b[1;32m    192\u001b[0m         \u001b[0mfid\u001b[0m \u001b[0;34m=\u001b[0m \u001b[0mh5f\u001b[0m\u001b[0;34m.\u001b[0m\u001b[0mopen\u001b[0m\u001b[0;34m(\u001b[0m\u001b[0mname\u001b[0m\u001b[0;34m,\u001b[0m \u001b[0mh5f\u001b[0m\u001b[0;34m.\u001b[0m\u001b[0mACC_RDWR\u001b[0m\u001b[0;34m,\u001b[0m \u001b[0mfapl\u001b[0m\u001b[0;34m=\u001b[0m\u001b[0mfapl\u001b[0m\u001b[0;34m)\u001b[0m\u001b[0;34m\u001b[0m\u001b[0;34m\u001b[0m\u001b[0m\n",
      "\u001b[0;32mh5py/_objects.pyx\u001b[0m in \u001b[0;36mh5py._objects.with_phil.wrapper\u001b[0;34m()\u001b[0m\n",
      "\u001b[0;32mh5py/_objects.pyx\u001b[0m in \u001b[0;36mh5py._objects.with_phil.wrapper\u001b[0;34m()\u001b[0m\n",
      "\u001b[0;32mh5py/h5f.pyx\u001b[0m in \u001b[0;36mh5py.h5f.open\u001b[0;34m()\u001b[0m\n",
      "\u001b[0;31mOSError\u001b[0m: Unable to open file (unable to open file: name = 'rhc_0_of_32.h5', errno = 2, error message = 'No such file or directory', flags = 0, o_flags = 0)"
     ]
    }
   ],
   "source": [
    "tables = Tables('rhc_0_of_32.h5', None,None, ['run', 'subrun', 'cycle', 'batch', 'evt', 'subevt', 'rec.vtx.elastic.fuzzyk.png_idx'])"
   ]
  },
  {
   "cell_type": "code",
   "execution_count": 4,
   "id": "isolated-george",
   "metadata": {},
   "outputs": [
    {
     "data": {
      "text/plain": [
       "<KeysViewHDF5 ['neutrino', 'neutrino.beam', 'neutrino.genVersion', 'neutrino.michel', 'neutrino.prefsi', 'neutrino.prefsi.primList', 'neutrino.prim', 'neutrino.prim.daughterEnergies', 'neutrino.prim.daughterlist', 'neutrino.rwgt.geant4', 'neutrino.rwgt.geant4.piminus_univ', 'neutrino.rwgt.geant4.piplus_univ', 'neutrino.rwgt.geant4.proton_univ', 'neutrino.rwgt.genie', 'neutrino.rwgt.ppfx', 'neutrino.rwgt.ppfx.vuniv', 'rec.energy.nue', 'rec.energy.nue.lid', 'rec.energy.numu', 'rec.energy.numu.bpfenergy', 'rec.energy.numu.hadclust', 'rec.energy.numu.mc', 'rec.hdr', 'rec.mc', 'rec.mc.allnus', 'rec.mc.allnus.beam', 'rec.mc.allnus.genVersion', 'rec.mc.allnus.michel', 'rec.mc.allnus.prefsi', 'rec.mc.allnus.prefsi.primList', 'rec.mc.allnus.prim', 'rec.mc.allnus.prim.daughterEnergies', 'rec.mc.allnus.prim.daughterlist', 'rec.mc.allnus.rwgt.geant4', 'rec.mc.allnus.rwgt.ppfx', 'rec.mc.global', 'rec.mc.nu', 'rec.mc.nu.beam', 'rec.mc.nu.genVersion', 'rec.mc.nu.michel', 'rec.mc.nu.prefsi', 'rec.mc.nu.prefsi.primList', 'rec.mc.nu.prim', 'rec.mc.nu.prim.daughterEnergies', 'rec.mc.nu.prim.daughterlist', 'rec.mc.nu.rwgt.geant4', 'rec.mc.nu.rwgt.geant4.piminus_univ', 'rec.mc.nu.rwgt.geant4.piplus_univ', 'rec.mc.nu.rwgt.geant4.proton_univ', 'rec.mc.nu.rwgt.genie', 'rec.mc.nu.rwgt.ppfx', 'rec.mc.nu.rwgt.ppfx.vuniv', 'rec.me', 'rec.me.slc', 'rec.me.slc.truth', 'rec.me.slc.truth.daughterVisEnergies', 'rec.me.slc.truth.daughterlist', 'rec.me.slc.truth.motherlist', 'rec.me.slc.truth.primNeutronE', 'rec.me.slc.truth.primNeutronProcessE', 'rec.me.trkkalman', 'rec.me.trkkalman.truth', 'rec.me.trkkalman.truth.daughterVisEnergies', 'rec.me.trkkalman.truth.daughterlist', 'rec.me.trkkalman.truth.motherlist', 'rec.me.trkkalman.truth.primNeutronE', 'rec.me.trkkalman.truth.primNeutronProcessE', 'rec.parent.mrccpar', 'rec.sel', 'rec.sel.bpfid', 'rec.sel.contain', 'rec.sel.cosrej', 'rec.sel.cvn', 'rec.sel.cvnloosepreselptp', 'rec.sel.cvnloosepreselptp.output', 'rec.sel.cvnloosepreselptp_opphorn', 'rec.sel.cvnloosepreselptp_opphorn.output', 'rec.sel.cvnnocosmics', 'rec.sel.cvnnocosmics_opphorn', 'rec.sel.cvnoldpresel', 'rec.sel.cvnoldpresel.output', 'rec.sel.cvnoldpresel_opphorn', 'rec.sel.cvnoldpresel_opphorn.output', 'rec.sel.lem', 'rec.sel.lid', 'rec.sel.muonid', 'rec.sel.nccosrej', 'rec.sel.ncpi0bkgrej', 'rec.sel.nuecosrej', 'rec.sel.nuepre', 'rec.sel.nuone', 'rec.sel.nuone.output', 'rec.sel.nuone_opphorn', 'rec.sel.remid', 'rec.sel.rockpre', 'rec.sel.rvp', 'rec.sel.slicelid', 'rec.sel.slicelid_opphorn', 'rec.sel.veto', 'rec.sel.xnuepid', 'rec.slc', 'rec.spill', 'rec.training', 'rec.training.cvnfeatures', 'rec.trk.cosmic', 'rec.trk.discrete', 'rec.trk.kalman', 'rec.trk.kalman.tracks', 'rec.trk.kalman.tracks.me', 'rec.trk.kalman.tracks.me.truth', 'rec.trk.kalman.tracks.me.truth.daughterVisEnergies', 'rec.trk.kalman.tracks.me.truth.daughterlist', 'rec.trk.kalman.tracks.me.truth.motherlist', 'rec.trk.kalman.tracks.me.truth.primNeutronE', 'rec.trk.kalman.tracks.me.truth.primNeutronProcessE', 'rec.trk.kalman.tracks.truth', 'rec.trk.kalman.tracks.truth.daughterVisEnergies', 'rec.trk.kalman.tracks.truth.daughterlist', 'rec.trk.kalman.tracks.truth.motherlist', 'rec.trk.kalman.tracks.truth.primNeutronE', 'rec.trk.kalman.tracks.truth.primNeutronProcessE', 'rec.trk.kalman.tracks.truthXView', 'rec.trk.kalman.tracks.truthXView.daughterVisEnergies', 'rec.trk.kalman.tracks.truthXView.daughterlist', 'rec.trk.kalman.tracks.truthXView.motherlist', 'rec.trk.kalman.tracks.truthXView.primNeutronE', 'rec.trk.kalman.tracks.truthXView.primNeutronProcessE', 'rec.trk.kalman.tracks.truthYView', 'rec.trk.kalman.tracks.truthYView.daughterVisEnergies', 'rec.trk.kalman.tracks.truthYView.daughterlist', 'rec.trk.kalman.tracks.truthYView.motherlist', 'rec.trk.kalman.tracks.truthYView.primNeutronE', 'rec.trk.kalman.tracks.truthYView.primNeutronProcessE', 'rec.trk.kalman.tracks2d', 'rec.trk.kalman.tracks2d.truth', 'rec.trk.kalman.tracks2d.truth.daughterVisEnergies', 'rec.trk.kalman.tracks2d.truth.daughterlist', 'rec.trk.kalman.tracks2d.truth.motherlist', 'rec.trk.kalman.tracks2d.truth.primNeutronE', 'rec.trk.kalman.tracks2d.truth.primNeutronProcessE', 'rec.trk.kalman.tracks2d.truthXView', 'rec.trk.kalman.tracks2d.truthXView.daughterVisEnergies', 'rec.trk.kalman.tracks2d.truthXView.daughterlist', 'rec.trk.kalman.tracks2d.truthXView.motherlist', 'rec.trk.kalman.tracks2d.truthXView.primNeutronE', 'rec.trk.kalman.tracks2d.truthXView.primNeutronProcessE', 'rec.trk.kalman.tracks2d.truthYView', 'rec.trk.kalman.tracks2d.truthYView.daughterVisEnergies', 'rec.trk.kalman.tracks2d.truthYView.daughterlist', 'rec.trk.kalman.tracks2d.truthYView.motherlist', 'rec.trk.kalman.tracks2d.truthYView.primNeutronE', 'rec.trk.kalman.tracks2d.truthYView.primNeutronProcessE', 'rec.trk.window', 'rec.trk.window.tracks', 'rec.trk.window.tracks.truth', 'rec.trk.window.tracks.truth.daughterVisEnergies', 'rec.trk.window.tracks.truth.daughterlist', 'rec.trk.window.tracks.truth.motherlist', 'rec.trk.window.tracks.truth.primNeutronE', 'rec.trk.window.tracks.truth.primNeutronProcessE', 'rec.trk.window.tracks.truthXView', 'rec.trk.window.tracks.truthXView.daughterVisEnergies', 'rec.trk.window.tracks.truthXView.daughterlist', 'rec.trk.window.tracks.truthXView.motherlist', 'rec.trk.window.tracks.truthXView.primNeutronE', 'rec.trk.window.tracks.truthXView.primNeutronProcessE', 'rec.trk.window.tracks.truthYView', 'rec.trk.window.tracks.truthYView.daughterVisEnergies', 'rec.trk.window.tracks.truthYView.daughterlist', 'rec.trk.window.tracks.truthYView.motherlist', 'rec.trk.window.tracks.truthYView.primNeutronE', 'rec.trk.window.tracks.truthYView.primNeutronProcessE', 'rec.vtx', 'rec.vtx.elastic', 'rec.vtx.elastic.fuzzyk', 'rec.vtx.elastic.fuzzyk.png', 'rec.vtx.elastic.fuzzyk.png.bpf.muon', 'rec.vtx.elastic.fuzzyk.png.bpf.muon.truth', 'rec.vtx.elastic.fuzzyk.png.bpf.muon.truth.daughterVisEnergies', 'rec.vtx.elastic.fuzzyk.png.bpf.muon.truth.daughterlist', 'rec.vtx.elastic.fuzzyk.png.bpf.muon.truth.motherlist', 'rec.vtx.elastic.fuzzyk.png.bpf.muon.truth.primNeutronE', 'rec.vtx.elastic.fuzzyk.png.bpf.muon.truth.primNeutronProcessE', 'rec.vtx.elastic.fuzzyk.png.bpf.muon.truthXView', 'rec.vtx.elastic.fuzzyk.png.bpf.muon.truthXView.daughterVisEnergies', 'rec.vtx.elastic.fuzzyk.png.bpf.muon.truthXView.daughterlist', 'rec.vtx.elastic.fuzzyk.png.bpf.muon.truthXView.motherlist', 'rec.vtx.elastic.fuzzyk.png.bpf.muon.truthXView.primNeutronE', 'rec.vtx.elastic.fuzzyk.png.bpf.muon.truthXView.primNeutronProcessE', 'rec.vtx.elastic.fuzzyk.png.bpf.muon.truthYView', 'rec.vtx.elastic.fuzzyk.png.bpf.muon.truthYView.daughterVisEnergies', 'rec.vtx.elastic.fuzzyk.png.bpf.muon.truthYView.daughterlist', 'rec.vtx.elastic.fuzzyk.png.bpf.muon.truthYView.motherlist', 'rec.vtx.elastic.fuzzyk.png.bpf.muon.truthYView.primNeutronE', 'rec.vtx.elastic.fuzzyk.png.bpf.muon.truthYView.primNeutronProcessE', 'rec.vtx.elastic.fuzzyk.png.bpf.pion', 'rec.vtx.elastic.fuzzyk.png.bpf.pion.truth', 'rec.vtx.elastic.fuzzyk.png.bpf.pion.truth.daughterVisEnergies', 'rec.vtx.elastic.fuzzyk.png.bpf.pion.truth.daughterlist', 'rec.vtx.elastic.fuzzyk.png.bpf.pion.truth.motherlist', 'rec.vtx.elastic.fuzzyk.png.bpf.pion.truth.primNeutronE', 'rec.vtx.elastic.fuzzyk.png.bpf.pion.truth.primNeutronProcessE', 'rec.vtx.elastic.fuzzyk.png.bpf.pion.truthXView', 'rec.vtx.elastic.fuzzyk.png.bpf.pion.truthXView.daughterVisEnergies', 'rec.vtx.elastic.fuzzyk.png.bpf.pion.truthXView.daughterlist', 'rec.vtx.elastic.fuzzyk.png.bpf.pion.truthXView.motherlist', 'rec.vtx.elastic.fuzzyk.png.bpf.pion.truthXView.primNeutronE', 'rec.vtx.elastic.fuzzyk.png.bpf.pion.truthXView.primNeutronProcessE', 'rec.vtx.elastic.fuzzyk.png.bpf.pion.truthYView', 'rec.vtx.elastic.fuzzyk.png.bpf.pion.truthYView.daughterVisEnergies', 'rec.vtx.elastic.fuzzyk.png.bpf.pion.truthYView.daughterlist', 'rec.vtx.elastic.fuzzyk.png.bpf.pion.truthYView.motherlist', 'rec.vtx.elastic.fuzzyk.png.bpf.pion.truthYView.primNeutronE', 'rec.vtx.elastic.fuzzyk.png.bpf.pion.truthYView.primNeutronProcessE', 'rec.vtx.elastic.fuzzyk.png.bpf.proton', 'rec.vtx.elastic.fuzzyk.png.bpf.proton.truth', 'rec.vtx.elastic.fuzzyk.png.bpf.proton.truth.daughterVisEnergies', 'rec.vtx.elastic.fuzzyk.png.bpf.proton.truth.daughterlist', 'rec.vtx.elastic.fuzzyk.png.bpf.proton.truth.motherlist', 'rec.vtx.elastic.fuzzyk.png.bpf.proton.truth.primNeutronE', 'rec.vtx.elastic.fuzzyk.png.bpf.proton.truth.primNeutronProcessE', 'rec.vtx.elastic.fuzzyk.png.bpf.proton.truthXView', 'rec.vtx.elastic.fuzzyk.png.bpf.proton.truthXView.daughterVisEnergies', 'rec.vtx.elastic.fuzzyk.png.bpf.proton.truthXView.daughterlist', 'rec.vtx.elastic.fuzzyk.png.bpf.proton.truthXView.motherlist', 'rec.vtx.elastic.fuzzyk.png.bpf.proton.truthXView.primNeutronE', 'rec.vtx.elastic.fuzzyk.png.bpf.proton.truthXView.primNeutronProcessE', 'rec.vtx.elastic.fuzzyk.png.bpf.proton.truthYView', 'rec.vtx.elastic.fuzzyk.png.bpf.proton.truthYView.daughterVisEnergies', 'rec.vtx.elastic.fuzzyk.png.bpf.proton.truthYView.daughterlist', 'rec.vtx.elastic.fuzzyk.png.bpf.proton.truthYView.motherlist', 'rec.vtx.elastic.fuzzyk.png.bpf.proton.truthYView.primNeutronE', 'rec.vtx.elastic.fuzzyk.png.bpf.proton.truthYView.primNeutronProcessE', 'rec.vtx.elastic.fuzzyk.png.cvnneutron', 'rec.vtx.elastic.fuzzyk.png.cvnpart', 'rec.vtx.elastic.fuzzyk.png.cvnpart_opphorn', 'rec.vtx.elastic.fuzzyk.png.regcvn', 'rec.vtx.elastic.fuzzyk.png.shwlid', 'rec.vtx.elastic.fuzzyk.png.shwlid.lid', 'rec.vtx.elastic.fuzzyk.png.shwlid.lidE', 'rec.vtx.elastic.fuzzyk.png.shwlid.truth', 'rec.vtx.elastic.fuzzyk.png.shwlid.truthXView', 'rec.vtx.elastic.fuzzyk.png.shwlid.truthYView', 'rec.vtx.elastic.fuzzyk.png.spprongcvnpart5label', 'rec.vtx.elastic.fuzzyk.png.spprongcvnpartnumuccemid', 'rec.vtx.elastic.fuzzyk.png.truth', 'rec.vtx.elastic.fuzzyk.png.truth.daughterVisEnergies', 'rec.vtx.elastic.fuzzyk.png.truth.daughterlist', 'rec.vtx.elastic.fuzzyk.png.truth.motherlist', 'rec.vtx.elastic.fuzzyk.png.truth.primNeutronE', 'rec.vtx.elastic.fuzzyk.png.truth.primNeutronProcessE', 'rec.vtx.elastic.fuzzyk.png.truthXView', 'rec.vtx.elastic.fuzzyk.png.truthXView.daughterVisEnergies', 'rec.vtx.elastic.fuzzyk.png.truthXView.daughterlist', 'rec.vtx.elastic.fuzzyk.png.truthXView.motherlist', 'rec.vtx.elastic.fuzzyk.png.truthXView.primNeutronE', 'rec.vtx.elastic.fuzzyk.png.truthXView.primNeutronProcessE', 'rec.vtx.elastic.fuzzyk.png.truthYView', 'rec.vtx.elastic.fuzzyk.png.truthYView.daughterVisEnergies', 'rec.vtx.elastic.fuzzyk.png.truthYView.daughterlist', 'rec.vtx.elastic.fuzzyk.png.truthYView.motherlist', 'rec.vtx.elastic.fuzzyk.png.truthYView.primNeutronE', 'rec.vtx.elastic.fuzzyk.png.truthYView.primNeutronProcessE', 'rec.vtx.elastic.fuzzyk.png2d', 'rec.vtx.elastic.fuzzyk.png2d.cvnneutron', 'rec.vtx.elastic.fuzzyk.png2d.cvnpart', 'rec.vtx.elastic.fuzzyk.png2d.cvnpart_opphorn', 'rec.vtx.elastic.fuzzyk.png2d.spprongcvnpart5label', 'rec.vtx.elastic.fuzzyk.png2d.spprongcvnpartnumuccemid', 'rec.vtx.elastic.fuzzyk.png2d.truth', 'rec.vtx.elastic.fuzzyk.png2d.truth.daughterVisEnergies', 'rec.vtx.elastic.fuzzyk.png2d.truth.daughterlist', 'rec.vtx.elastic.fuzzyk.png2d.truth.motherlist', 'rec.vtx.elastic.fuzzyk.png2d.truth.primNeutronE', 'rec.vtx.elastic.fuzzyk.png2d.truth.primNeutronProcessE', 'rec.vtx.elastic.fuzzyk.png2d.truthXView', 'rec.vtx.elastic.fuzzyk.png2d.truthXView.daughterVisEnergies', 'rec.vtx.elastic.fuzzyk.png2d.truthXView.daughterlist', 'rec.vtx.elastic.fuzzyk.png2d.truthXView.motherlist', 'rec.vtx.elastic.fuzzyk.png2d.truthXView.primNeutronE', 'rec.vtx.elastic.fuzzyk.png2d.truthXView.primNeutronProcessE', 'rec.vtx.elastic.fuzzyk.png2d.truthYView', 'rec.vtx.elastic.fuzzyk.png2d.truthYView.daughterVisEnergies', 'rec.vtx.elastic.fuzzyk.png2d.truthYView.daughterlist', 'rec.vtx.elastic.fuzzyk.png2d.truthYView.motherlist', 'rec.vtx.elastic.fuzzyk.png2d.truthYView.primNeutronE', 'rec.vtx.elastic.fuzzyk.png2d.truthYView.primNeutronProcessE', 'spill']>"
      ]
     },
     "execution_count": 4,
     "metadata": {},
     "output_type": "execute_result"
    }
   ],
   "source": [
    "tables.keys()"
   ]
  },
  {
   "cell_type": "code",
   "execution_count": 5,
   "id": "ranking-plumbing",
   "metadata": {},
   "outputs": [
    {
     "data": {
      "text/plain": [
       "<KeysViewHDF5 ['batch', 'cycle', 'dcmedgematchfrac', 'deltaspilltimensec', 'det', 'dibfirst', 'diblast', 'dibmask', 'eid', 'emptydatablock', 'eventincomplete', 'evt', 'evt.seq', 'fracdcm3hits', 'gpsspilltimensec', 'gpsspilltimesec', 'hornI', 'is0HC', 'isFHC', 'isRHC', 'isgoodspill', 'ismc', 'livetime', 'maskstatus', 'nanosliceadcerror', 'nanoslicebufferempty', 'nanoslicebufferfull', 'nanoslicecommerror', 'nanoslicedatanotpresent', 'nanoslicenolinkstatus', 'nanosliceoverflowerror', 'nanoslicepacketerror', 'nbaddcmslg', 'ncosmiccvn', 'ndatablockmissingdata', 'ndcms', 'ndiblocks', 'ndroppedmicroblocks', 'nemptymicroslice', 'nmicroblocks', 'nmicroslicedatanotpresent', 'nmicroslices', 'nmissingdcms', 'nmissingdcmslg', 'nnanoslices', 'nnoisyapds', 'nouttimehits', 'posx', 'posy', 'run', 'spillpot', 'spilltimensec', 'spilltimesec', 'subrun', 'trigger', 'widthx', 'widthy']>"
      ]
     },
     "execution_count": 5,
     "metadata": {},
     "output_type": "execute_result"
    }
   ],
   "source": [
    "tables['spill'].keys()"
   ]
  },
  {
   "cell_type": "code",
   "execution_count": 6,
   "id": "continuous-observer",
   "metadata": {},
   "outputs": [
    {
     "data": {
      "text/plain": [
       "run    subrun  cycle  batch  evt\n",
       "12732  0       4      3      1      5.028200e+13\n",
       "                             2      5.028200e+13\n",
       "                             3      5.028200e+13\n",
       "                             4      5.028200e+13\n",
       "                             5      5.028200e+13\n",
       "                                        ...     \n",
       "13031  19      37     1      518    4.783610e+13\n",
       "                             519    4.783610e+13\n",
       "                             520    4.783610e+13\n",
       "                             521    4.783610e+13\n",
       "                             522    4.783610e+13\n",
       "Name: spillpot, Length: 259511, dtype: float32"
      ]
     },
     "execution_count": 6,
     "metadata": {},
     "output_type": "execute_result"
    }
   ],
   "source": [
    "tables['spill']['spillpot']"
   ]
  },
  {
   "cell_type": "code",
   "execution_count": 7,
   "id": "patient-audio",
   "metadata": {},
   "outputs": [
    {
     "data": {
      "text/plain": [
       "pandas.core.series.Series"
      ]
     },
     "execution_count": 7,
     "metadata": {},
     "output_type": "execute_result"
    }
   ],
   "source": [
    "type(_)"
   ]
  },
  {
   "cell_type": "code",
   "execution_count": 8,
   "id": "complete-tattoo",
   "metadata": {},
   "outputs": [
    {
     "data": {
      "text/html": [
       "<div>\n",
       "<style scoped>\n",
       "    .dataframe tbody tr th:only-of-type {\n",
       "        vertical-align: middle;\n",
       "    }\n",
       "\n",
       "    .dataframe tbody tr th {\n",
       "        vertical-align: top;\n",
       "    }\n",
       "\n",
       "    .dataframe thead th {\n",
       "        text-align: right;\n",
       "    }\n",
       "</style>\n",
       "<table border=\"1\" class=\"dataframe\">\n",
       "  <thead>\n",
       "    <tr style=\"text-align: right;\">\n",
       "      <th></th>\n",
       "      <th></th>\n",
       "      <th></th>\n",
       "      <th></th>\n",
       "      <th></th>\n",
       "      <th>spillpot</th>\n",
       "      <th>isgoodspill</th>\n",
       "    </tr>\n",
       "    <tr>\n",
       "      <th>run</th>\n",
       "      <th>subrun</th>\n",
       "      <th>cycle</th>\n",
       "      <th>batch</th>\n",
       "      <th>evt</th>\n",
       "      <th></th>\n",
       "      <th></th>\n",
       "    </tr>\n",
       "  </thead>\n",
       "  <tbody>\n",
       "    <tr>\n",
       "      <th rowspan=\"5\" valign=\"top\">12732</th>\n",
       "      <th rowspan=\"5\" valign=\"top\">0</th>\n",
       "      <th rowspan=\"5\" valign=\"top\">4</th>\n",
       "      <th rowspan=\"5\" valign=\"top\">3</th>\n",
       "      <th>1</th>\n",
       "      <td>5.028200e+13</td>\n",
       "      <td>1</td>\n",
       "    </tr>\n",
       "    <tr>\n",
       "      <th>2</th>\n",
       "      <td>5.028200e+13</td>\n",
       "      <td>1</td>\n",
       "    </tr>\n",
       "    <tr>\n",
       "      <th>3</th>\n",
       "      <td>5.028200e+13</td>\n",
       "      <td>1</td>\n",
       "    </tr>\n",
       "    <tr>\n",
       "      <th>4</th>\n",
       "      <td>5.028200e+13</td>\n",
       "      <td>1</td>\n",
       "    </tr>\n",
       "    <tr>\n",
       "      <th>5</th>\n",
       "      <td>5.028200e+13</td>\n",
       "      <td>1</td>\n",
       "    </tr>\n",
       "    <tr>\n",
       "      <th>...</th>\n",
       "      <th>...</th>\n",
       "      <th>...</th>\n",
       "      <th>...</th>\n",
       "      <th>...</th>\n",
       "      <td>...</td>\n",
       "      <td>...</td>\n",
       "    </tr>\n",
       "    <tr>\n",
       "      <th rowspan=\"5\" valign=\"top\">13031</th>\n",
       "      <th rowspan=\"5\" valign=\"top\">19</th>\n",
       "      <th rowspan=\"5\" valign=\"top\">37</th>\n",
       "      <th rowspan=\"5\" valign=\"top\">1</th>\n",
       "      <th>518</th>\n",
       "      <td>4.783610e+13</td>\n",
       "      <td>1</td>\n",
       "    </tr>\n",
       "    <tr>\n",
       "      <th>519</th>\n",
       "      <td>4.783610e+13</td>\n",
       "      <td>1</td>\n",
       "    </tr>\n",
       "    <tr>\n",
       "      <th>520</th>\n",
       "      <td>4.783610e+13</td>\n",
       "      <td>1</td>\n",
       "    </tr>\n",
       "    <tr>\n",
       "      <th>521</th>\n",
       "      <td>4.783610e+13</td>\n",
       "      <td>1</td>\n",
       "    </tr>\n",
       "    <tr>\n",
       "      <th>522</th>\n",
       "      <td>4.783610e+13</td>\n",
       "      <td>1</td>\n",
       "    </tr>\n",
       "  </tbody>\n",
       "</table>\n",
       "<p>259511 rows × 2 columns</p>\n",
       "</div>"
      ],
      "text/plain": [
       "                                  spillpot  isgoodspill\n",
       "run   subrun cycle batch evt                           \n",
       "12732 0      4     3     1    5.028200e+13            1\n",
       "                         2    5.028200e+13            1\n",
       "                         3    5.028200e+13            1\n",
       "                         4    5.028200e+13            1\n",
       "                         5    5.028200e+13            1\n",
       "...                                    ...          ...\n",
       "13031 19     37    1     518  4.783610e+13            1\n",
       "                         519  4.783610e+13            1\n",
       "                         520  4.783610e+13            1\n",
       "                         521  4.783610e+13            1\n",
       "                         522  4.783610e+13            1\n",
       "\n",
       "[259511 rows x 2 columns]"
      ]
     },
     "execution_count": 8,
     "metadata": {},
     "output_type": "execute_result"
    }
   ],
   "source": [
    "tables['spill'][['spillpot','isgoodspill']]"
   ]
  },
  {
   "cell_type": "code",
   "execution_count": 9,
   "id": "extraordinary-silver",
   "metadata": {},
   "outputs": [
    {
     "data": {
      "text/plain": [
       "pandas.core.frame.DataFrame"
      ]
     },
     "execution_count": 9,
     "metadata": {},
     "output_type": "execute_result"
    }
   ],
   "source": [
    "type(_)"
   ]
  },
  {
   "cell_type": "code",
   "execution_count": 12,
   "id": "known-dining",
   "metadata": {},
   "outputs": [
    {
     "data": {
      "text/plain": [
       "307"
      ]
     },
     "execution_count": 12,
     "metadata": {},
     "output_type": "execute_result"
    }
   ],
   "source": [
    "len(tables['spill']['run'].unique())"
   ]
  },
  {
   "cell_type": "code",
   "execution_count": 16,
   "id": "cellular-reproduction",
   "metadata": {},
   "outputs": [],
   "source": [
    "df=tables['rec.slc']['calE']"
   ]
  },
  {
   "cell_type": "code",
   "execution_count": 17,
   "id": "piano-residence",
   "metadata": {},
   "outputs": [
    {
     "data": {
      "text/plain": [
       "run    subrun  cycle  batch  evt  subevt\n",
       "12732  0       4      3      2    1         14.690329\n",
       "                             8    1          3.005490\n",
       "                             17   2          0.999181\n",
       "                             19   2         12.710474\n",
       "                             45   10         1.766222\n",
       "                                              ...    \n",
       "13031  19      37     1      479  2         12.464890\n",
       "                             485  6          9.655966\n",
       "                             489  4          0.921736\n",
       "                             495  6          1.828053\n",
       "                             499  9          2.246219\n",
       "Name: calE, Length: 36477, dtype: float32"
      ]
     },
     "execution_count": 17,
     "metadata": {},
     "output_type": "execute_result"
    }
   ],
   "source": [
    "2*df"
   ]
  },
  {
   "cell_type": "code",
   "execution_count": 18,
   "id": "hydraulic-zambia",
   "metadata": {},
   "outputs": [
    {
     "name": "stdout",
     "output_type": "stream",
     "text": [
      "125 µs ± 6.45 µs per loop (mean ± std. dev. of 7 runs, 10000 loops each)\n"
     ]
    }
   ],
   "source": [
    "%timeit 2*df"
   ]
  },
  {
   "cell_type": "code",
   "execution_count": 19,
   "id": "seasonal-noise",
   "metadata": {},
   "outputs": [
    {
     "name": "stdout",
     "output_type": "stream",
     "text": [
      "3.6 ms ± 28.3 µs per loop (mean ± std. dev. of 7 runs, 100 loops each)\n"
     ]
    }
   ],
   "source": [
    "%timeit for val in df: 2*val"
   ]
  },
  {
   "cell_type": "code",
   "execution_count": 20,
   "id": "unlimited-challenge",
   "metadata": {},
   "outputs": [
    {
     "name": "stdout",
     "output_type": "stream",
     "text": [
      "8.43 ms ± 387 µs per loop (mean ± std. dev. of 7 runs, 100 loops each)\n"
     ]
    }
   ],
   "source": [
    "%timeit df.apply(lambda x: 2*x)"
   ]
  },
  {
   "cell_type": "code",
   "execution_count": 21,
   "id": "unlikely-blast",
   "metadata": {},
   "outputs": [
    {
     "data": {
      "text/plain": [
       "run    subrun  cycle  batch  evt  subevt\n",
       "12732  0       4      3      2    1          True\n",
       "                             8    1          True\n",
       "                             17   2         False\n",
       "                             19   2          True\n",
       "                             45   10        False\n",
       "                                            ...  \n",
       "13031  19      37     1      479  2          True\n",
       "                             485  6          True\n",
       "                             489  4         False\n",
       "                             495  6         False\n",
       "                             499  9          True\n",
       "Name: calE, Length: 36477, dtype: bool"
      ]
     },
     "execution_count": 21,
     "metadata": {},
     "output_type": "execute_result"
    }
   ],
   "source": [
    "df > 1"
   ]
  },
  {
   "cell_type": "code",
   "execution_count": 22,
   "id": "hired-preliminary",
   "metadata": {},
   "outputs": [
    {
     "data": {
      "text/plain": [
       "run    subrun  cycle  batch  evt  subevt\n",
       "12732  0       4      3      2    1         7.345164\n",
       "                             8    1         1.502745\n",
       "                             19   2         6.355237\n",
       "                             51   4         2.490110\n",
       "                             77   2         2.542977\n",
       "                                              ...   \n",
       "13031  19      37     1      425  2         1.537311\n",
       "                             458  2         1.570878\n",
       "                             479  2         6.232445\n",
       "                             485  6         4.827983\n",
       "                             499  9         1.123109\n",
       "Name: calE, Length: 24054, dtype: float32"
      ]
     },
     "execution_count": 22,
     "metadata": {},
     "output_type": "execute_result"
    }
   ],
   "source": [
    "df[df > 1]"
   ]
  },
  {
   "cell_type": "code",
   "execution_count": 25,
   "id": "looking-basket",
   "metadata": {},
   "outputs": [],
   "source": [
    "df.where(df > 1, 0, inplace=True)"
   ]
  },
  {
   "cell_type": "code",
   "execution_count": 26,
   "id": "interim-decimal",
   "metadata": {},
   "outputs": [
    {
     "data": {
      "text/plain": [
       "run    subrun  cycle  batch  evt  subevt\n",
       "12732  0       4      3      2    1         7.345164\n",
       "                             8    1         1.502745\n",
       "                             17   2         0.000000\n",
       "                             19   2         6.355237\n",
       "                             45   10        0.000000\n",
       "                                              ...   \n",
       "13031  19      37     1      479  2         6.232445\n",
       "                             485  6         4.827983\n",
       "                             489  4         0.000000\n",
       "                             495  6         0.000000\n",
       "                             499  9         1.123109\n",
       "Name: calE, Length: 36477, dtype: float32"
      ]
     },
     "execution_count": 26,
     "metadata": {},
     "output_type": "execute_result"
    }
   ],
   "source": [
    "df"
   ]
  },
  {
   "cell_type": "code",
   "execution_count": 27,
   "id": "immediate-arbor",
   "metadata": {},
   "outputs": [
    {
     "data": {
      "text/plain": [
       "run    subrun  cycle  batch  evt  subevt\n",
       "12732  0       4      3      2    1         2.710196\n",
       "                             8    1         1.225865\n",
       "                             17   2         0.000000\n",
       "                             19   2         2.520960\n",
       "                             45   10        0.000000\n",
       "                                              ...   \n",
       "13031  19      37     1      479  2         2.496487\n",
       "                             485  6         2.197267\n",
       "                             489  4         0.000000\n",
       "                             495  6         0.000000\n",
       "                             499  9         1.059769\n",
       "Name: calE, Length: 36477, dtype: float32"
      ]
     },
     "execution_count": 27,
     "metadata": {},
     "output_type": "execute_result"
    }
   ],
   "source": [
    "import numpy as np\n",
    "np.sqrt(df)"
   ]
  },
  {
   "cell_type": "code",
   "execution_count": 30,
   "id": "average-rubber",
   "metadata": {},
   "outputs": [
    {
     "name": "stdout",
     "output_type": "stream",
     "text": [
      "run    subrun  cycle  batch  evt  subevt\n",
      "12732  0       4      3      2    1         14.690329\n",
      "                             8    1          3.005490\n",
      "                             17   2          0.000000\n",
      "                             19   2         12.710474\n",
      "                             45   10         0.000000\n",
      "                                              ...    \n",
      "13031  19      37     1      479  2         12.464890\n",
      "                             485  6          9.655966\n",
      "                             489  4          0.000000\n",
      "                             495  6          0.000000\n",
      "                             499  9          2.246219\n",
      "Name: calE, Length: 36477, dtype: float32\n"
     ]
    }
   ],
   "source": [
    "df2 = df\n",
    "df2 *= 2\n",
    "print(df2)"
   ]
  },
  {
   "cell_type": "code",
   "execution_count": 31,
   "id": "small-aberdeen",
   "metadata": {},
   "outputs": [
    {
     "name": "stdout",
     "output_type": "stream",
     "text": [
      "run    subrun  cycle  batch  evt  subevt\n",
      "12732  0       4      3      2    1         14.690329\n",
      "                             8    1          3.005490\n",
      "                             17   2          0.000000\n",
      "                             19   2         12.710474\n",
      "                             45   10         0.000000\n",
      "                                              ...    \n",
      "13031  19      37     1      479  2         12.464890\n",
      "                             485  6          9.655966\n",
      "                             489  4          0.000000\n",
      "                             495  6          0.000000\n",
      "                             499  9          2.246219\n",
      "Name: calE, Length: 36477, dtype: float32\n"
     ]
    }
   ],
   "source": [
    "print(df)"
   ]
  },
  {
   "cell_type": "code",
   "execution_count": 32,
   "id": "color-journalism",
   "metadata": {},
   "outputs": [],
   "source": [
    "nhit = tables['rec.vtx.elastic.fuzzyk.png']['nhit']"
   ]
  },
  {
   "cell_type": "code",
   "execution_count": 33,
   "id": "responsible-poultry",
   "metadata": {},
   "outputs": [
    {
     "data": {
      "text/plain": [
       "run    subrun  cycle  batch  evt  subevt  rec.vtx.elastic.fuzzyk.png_idx\n",
       "12732  0       4      3      2    1       0                                 108\n",
       "                                          1                                  51\n",
       "                                          2                                  69\n",
       "                                          3                                  13\n",
       "                             8    1       0                                  67\n",
       "                                                                           ... \n",
       "13031  19      37     1      495  6       0                                  17\n",
       "                                          1                                   8\n",
       "                                          2                                   6\n",
       "                             499  9       0                                  58\n",
       "                                          1                                   8\n",
       "Name: nhit, Length: 81205, dtype: uint16"
      ]
     },
     "execution_count": 33,
     "metadata": {},
     "output_type": "execute_result"
    }
   ],
   "source": [
    "nhit"
   ]
  },
  {
   "cell_type": "code",
   "execution_count": 39,
   "id": "pressed-letter",
   "metadata": {},
   "outputs": [],
   "source": [
    "nhit = nhit.groupby(['run','subrun','cycle','batch','evt','subevt']).sum()"
   ]
  },
  {
   "cell_type": "code",
   "execution_count": 38,
   "id": "surface-production",
   "metadata": {},
   "outputs": [
    {
     "data": {
      "text/plain": [
       "run    subrun  cycle  batch  evt  subevt\n",
       "12732  0       4      3      2    1         14.690329\n",
       "                             8    1          3.005490\n",
       "                             17   2          0.000000\n",
       "                             19   2         12.710474\n",
       "                             45   10         0.000000\n",
       "                                              ...    \n",
       "13031  19      37     1      479  2         12.464890\n",
       "                             485  6          9.655966\n",
       "                             489  4          0.000000\n",
       "                             495  6          0.000000\n",
       "                             499  9          2.246219\n",
       "Name: calE, Length: 36477, dtype: float32"
      ]
     },
     "execution_count": 38,
     "metadata": {},
     "output_type": "execute_result"
    }
   ],
   "source": [
    "df"
   ]
  },
  {
   "cell_type": "code",
   "execution_count": 40,
   "id": "streaming-wholesale",
   "metadata": {},
   "outputs": [
    {
     "data": {
      "text/plain": [
       "run    subrun  cycle  batch  evt  subevt\n",
       "11636  18      54     3      4    2         225.435318\n",
       "                             7    1           0.000000\n",
       "                                  2         209.840058\n",
       "                             35   2         167.996581\n",
       "                             48   2         112.039922\n",
       "                                               ...    \n",
       "13127  13      28     1      468  5           0.000000\n",
       "                             472  4           0.000000\n",
       "                             477  3         127.996522\n",
       "                             485  2         285.686876\n",
       "                             487  2          57.932521\n",
       "Length: 36477, dtype: float64"
      ]
     },
     "execution_count": 40,
     "metadata": {},
     "output_type": "execute_result"
    }
   ],
   "source": [
    "df*nhit"
   ]
  },
  {
   "cell_type": "code",
   "execution_count": null,
   "id": "mounted-sense",
   "metadata": {},
   "outputs": [],
   "source": []
  },
  {
   "cell_type": "code",
   "execution_count": 44,
   "id": "molecular-collins",
   "metadata": {},
   "outputs": [],
   "source": [
    "cale = tables['rec.vtx.elastic.fuzzyk.png']['calE']\n",
    "scores = tables['rec.vtx.elastic.fuzzyk.png.cvnpart'][['electronid','photonid']]"
   ]
  },
  {
   "cell_type": "code",
   "execution_count": 47,
   "id": "crucial-brass",
   "metadata": {},
   "outputs": [],
   "source": [
    "emscore = scores.sum(axis=1)"
   ]
  },
  {
   "cell_type": "code",
   "execution_count": 50,
   "id": "simplified-configuration",
   "metadata": {},
   "outputs": [],
   "source": [
    "eme = cale.where(emscore > 0.5, 0)"
   ]
  },
  {
   "cell_type": "code",
   "execution_count": 51,
   "id": "infinite-night",
   "metadata": {},
   "outputs": [
    {
     "data": {
      "text/plain": [
       "run    subrun  cycle  batch  evt  subevt\n",
       "11636  18      54     3      4    2         0.437087\n",
       "                             7    1         0.000000\n",
       "                                  2         0.000000\n",
       "                             35   2         0.000000\n",
       "                             48   2         0.606127\n",
       "                                              ...   \n",
       "13127  13      28     1      468  5         0.360166\n",
       "                             472  4         0.000000\n",
       "                             477  3         0.000000\n",
       "                             485  2         0.000000\n",
       "                             487  2         0.000000\n",
       "Name: calE, Length: 36455, dtype: float32"
      ]
     },
     "execution_count": 51,
     "metadata": {},
     "output_type": "execute_result"
    }
   ],
   "source": [
    "eme.groupby(['run','subrun','cycle','batch','evt','subevt']).sum()"
   ]
  },
  {
   "cell_type": "code",
   "execution_count": 52,
   "id": "objective-insurance",
   "metadata": {},
   "outputs": [
    {
     "data": {
      "text/plain": [
       "run    subrun  cycle  batch  evt  subevt\n",
       "11636  18      54     3      4    2         0.437087\n",
       "                             7    1         0.000000\n",
       "                                  2         0.000000\n",
       "                             35   2         0.000000\n",
       "                             48   2         0.606127\n",
       "                                              ...   \n",
       "13127  13      28     1      468  5         0.360166\n",
       "                             472  4         0.000000\n",
       "                             477  3         0.000000\n",
       "                             485  2         0.000000\n",
       "                             487  2         0.000000\n",
       "Name: calE, Length: 36455, dtype: float32"
      ]
     },
     "execution_count": 52,
     "metadata": {},
     "output_type": "execute_result"
    }
   ],
   "source": [
    "from NOvAPandAna.Utils.index import KL\n",
    "eme.groupby(KL).sum()"
   ]
  },
  {
   "cell_type": "code",
   "execution_count": null,
   "id": "stuffed-limit",
   "metadata": {},
   "outputs": [],
   "source": []
  }
 ],
 "metadata": {
  "kernelspec": {
   "display_name": "Python 3 (ipykernel)",
   "language": "python",
   "name": "python3"
  },
  "language_info": {
   "codemirror_mode": {
    "name": "ipython",
    "version": 3
   },
   "file_extension": ".py",
   "mimetype": "text/x-python",
   "name": "python",
   "nbconvert_exporter": "python",
   "pygments_lexer": "ipython3",
   "version": "3.9.7"
  }
 },
 "nbformat": 4,
 "nbformat_minor": 5
}
